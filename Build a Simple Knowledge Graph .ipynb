{
 "cells": [
  {
   "cell_type": "markdown",
   "id": "63d4df55",
   "metadata": {},
   "source": [
    "# Lab Manual: Build a Simple Knowledge Graph using Python"
   ]
  },
  {
   "cell_type": "markdown",
   "id": "2d89d186",
   "metadata": {},
   "source": [
    "This lab guides you through the process of building a simple Knowledge Graph (KG) from unstructured text. You will learn how to extract information and then visualize it using two different Python libraries:\n",
    "\n",
    "- NetworkX: For creating static, publication-quality graph images.\n",
    "\n",
    "- PyVis: For creating dynamic, interactive HTML-based graphs for exploration.\n"
   ]
  },
  {
   "cell_type": "markdown",
   "id": "4ce60456",
   "metadata": {},
   "source": [
    "### Learning Objectives"
   ]
  },
  {
   "cell_type": "markdown",
   "id": "f55b8d97",
   "metadata": {},
   "source": [
    "After completing this lab, you will be able to:\n",
    "\n",
    "- Understand the basic components of a Knowledge Graph (nodes and edges).\n",
    "\n",
    "- Use spaCy for basic text processing.\n",
    "\n",
    "- Extract entities and relationships from text using simple rule-based methods.\n",
    "\n",
    "- Construct a graph object using NetworkX.\n",
    "\n",
    "- Generate a static visualization of a KG with NetworkX and Matplotlib.\n",
    "\n",
    "- Construct a graph object using PyVis.\n",
    "\n",
    "- Generate a dynamic, interactive visualization of a KG with PyVis.\n",
    "\n",
    "- Compare the use cases for static vs. dynamic visualizations.\n",
    "\n",
    "- Understand the foundational concept of how KGs enable reasoning."
   ]
  },
  {
   "cell_type": "markdown",
   "id": "86aeee62",
   "metadata": {},
   "source": [
    "### Setup and Imports"
   ]
  },
  {
   "cell_type": "code",
   "execution_count": 41,
   "id": "bb86b5ac",
   "metadata": {},
   "outputs": [
    {
     "name": "stdout",
     "output_type": "stream",
     "text": [
      "All libraries imported successfully!\n",
      "spaCy model loaded\n"
     ]
    }
   ],
   "source": [
    "import networkx as nx\n",
    "import matplotlib.pyplot as plt\n",
    "from pyvis.network import Network\n",
    "import spacy\n",
    "import re\n",
    "from collections import defaultdict\n",
    "\n",
    "print(\"All libraries imported successfully!\")\n",
    "\n",
    "# Load spaCy model for NLP\n",
    "try:\n",
    "    nlp = spacy.load(\"en_core_web_sm\")\n",
    "    print(\"spaCy model loaded\")\n",
    "except:\n",
    "    print(\"Please install spaCy model: python -m spacy download en_core_web_sm\")"
   ]
  },
  {
   "cell_type": "markdown",
   "id": "51a26018",
   "metadata": {},
   "source": [
    "### Sample Text and Data Preparation"
   ]
  },
  {
   "cell_type": "markdown",
   "id": "1b801ed2",
   "metadata": {},
   "source": [
    "Sample text for knowledge graph construction <br>\n",
    "We'll use a paragraph about researchers at UCU to build our knowledge graph."
   ]
  },
  {
   "cell_type": "code",
   "execution_count": 43,
   "id": "9746f7f5",
   "metadata": {},
   "outputs": [
    {
     "name": "stdout",
     "output_type": "stream",
     "text": [
      "Sample Text: \n",
      "\n",
      "Dr. Sarah Kizito teaches Computer Science at Uganda Christian University in Mukono. \n",
      "She researches Artificial Intelligence and collaborates with Dr. John Mugisha who works on Data Science. \n",
      "Dr. Mugisha also teaches Machine Learning courses. Both researchers have published papers on Educational Technology.\n",
      "UCU offers degrees in Software Engineering and Information Systems. The university is located in Mukono District.\n",
      "\n"
     ]
    }
   ],
   "source": [
    "sample_text = \"\"\"\n",
    "Dr. Sarah Kizito teaches Computer Science at Uganda Christian University in Mukono. \n",
    "She researches Artificial Intelligence and collaborates with Dr. John Mugisha who works on Data Science. \n",
    "Dr. Mugisha also teaches Machine Learning courses. Both researchers have published papers on Educational Technology.\n",
    "UCU offers degrees in Software Engineering and Information Systems. The university is located in Mukono District.\n",
    "\"\"\"\n",
    "\n",
    "print(\"Sample Text: \")\n",
    "\n",
    "print(sample_text)"
   ]
  },
  {
   "cell_type": "markdown",
   "id": "782ca660",
   "metadata": {},
   "source": [
    "### Process text with spaCy"
   ]
  },
  {
   "cell_type": "code",
   "execution_count": 44,
   "id": "bde7de52",
   "metadata": {},
   "outputs": [
    {
     "name": "stdout",
     "output_type": "stream",
     "text": [
      "\n",
      "Processed 69 tokens with spaCy\n"
     ]
    }
   ],
   "source": [
    "doc = nlp(sample_text)\n",
    "\n",
    "print(f\"\\nProcessed {len(doc)} tokens with spaCy\")"
   ]
  },
  {
   "cell_type": "markdown",
   "id": "1c93c392",
   "metadata": {},
   "source": [
    "### Simple Entity and Relationship Extraction"
   ]
  },
  {
   "cell_type": "markdown",
   "id": "ac0a8d32",
   "metadata": {},
   "source": [
    "A simple rule-based approach to extract entities and relationships. <br>\n",
    "In real applications, you would use more sophisticated NLP techniques."
   ]
  },
  {
   "cell_type": "code",
   "execution_count": 45,
   "id": "6cf67677",
   "metadata": {},
   "outputs": [],
   "source": [
    "def extract_knowledge_graph(text):\n",
    "    doc = nlp(text)\n",
    "    \n",
    "    # Initialize the graph data\n",
    "    entities = set()\n",
    "    relationships = []\n",
    "    \n",
    "    # Simple pattern matching for demonstration\n",
    "    # In a real project, you'd use spaCy's NER, Matcher, or ML models\n",
    "    patterns = [\n",
    "        (r'(\\w+\\s\\w+) teaches (\\w+(?:\\s\\w+)*) at (\\w+(?:\\s\\w+)*)', 'teaches_at'),\n",
    "        (r'(\\w+\\s\\w+) researches (\\w+(?:\\s\\w+)*)', 'researches'),\n",
    "        (r'(\\w+\\s\\w+) collaborates with (\\w+\\s\\w+)', 'collaborates_with'),\n",
    "        (r'(\\w+(?:\\s\\w+)*) offers (\\w+(?:\\s\\w+)*)', 'offers'),\n",
    "        (r'(\\w+(?:\\s\\w+)*) is located in (\\w+(?:\\s\\w+)*)', 'located_in'),\n",
    "    ]\n",
    "    \n",
    "    for pattern, relation_type in patterns:\n",
    "        matches = re.finditer(pattern, text)\n",
    "        for match in matches:\n",
    "            if relation_type == 'teaches_at':\n",
    "                # This pattern is (Subj) teaches (Topic) at (Obj)\n",
    "                subject, obj = match.group(1), match.group(3)\n",
    "            else:\n",
    "                # All other patterns are (Subj) [verb] (Obj)\n",
    "                subject, obj = match.group(1), match.group(2)\n",
    "                \n",
    "            entities.add(subject)\n",
    "            entities.add(obj)\n",
    "            relationships.append((subject, relation_type, obj))\n",
    "    \n",
    "    return list(entities), relationships"
   ]
  },
  {
   "cell_type": "code",
   "execution_count": 46,
   "id": "02a2b3db",
   "metadata": {},
   "outputs": [
    {
     "name": "stdout",
     "output_type": "stream",
     "text": [
      "EXTRACTED ENTITIES:\n",
      "------------------------------\n",
      "• degrees in Software Engineering and Information Systems\n",
      "• UCU\n",
      "• Mukono District\n",
      "• Uganda Christian University in Mukono\n",
      "• Sarah Kizito\n",
      "• The university\n",
      "\n",
      "EXTRACTED RELATIONSHIPS:\n",
      "------------------------------\n",
      "• Sarah Kizito --[teaches_at]--> Uganda Christian University in Mukono\n",
      "• UCU --[offers]--> degrees in Software Engineering and Information Systems\n",
      "• The university --[located_in]--> Mukono District\n"
     ]
    }
   ],
   "source": [
    "# Extract knowledge from our sample text\n",
    "entities, relationships = extract_knowledge_graph(sample_text)\n",
    "\n",
    "print(\"EXTRACTED ENTITIES:\")\n",
    "print(\"-\" * 30)\n",
    "for entity in entities:\n",
    "    print(f\"• {entity}\")\n",
    "\n",
    "print(\"\\nEXTRACTED RELATIONSHIPS:\")\n",
    "print(\"-\" * 30)\n",
    "for rel in relationships:\n",
    "    print(f\"• {rel[0]} --[{rel[1]}]--> {rel[2]}\")"
   ]
  },
  {
   "cell_type": "markdown",
   "id": "58e12e72",
   "metadata": {},
   "source": [
    "## Static Visualization with NetworkX"
   ]
  },
  {
   "cell_type": "markdown",
   "id": "3d25c57d",
   "metadata": {},
   "source": [
    "NetworkX creates fixed, publication-quality visualizations perfect for analysis."
   ]
  },
  {
   "cell_type": "code",
   "execution_count": 48,
   "id": "8922fffc",
   "metadata": {},
   "outputs": [
    {
     "name": "stdout",
     "output_type": "stream",
     "text": [
      "Graph created with 6 nodes and 3 edges\n"
     ]
    },
    {
     "data": {
      "image/png": "[encoded data removed]",
      "text/plain": [
       "<Figure size 1400x1000 with 1 Axes>"
      ]
     },
     "metadata": {},
     "output_type": "display_data"
    }
   ],
   "source": [
    "# Create a directed graph\n",
    "G = nx.DiGraph()\n",
    "\n",
    "# Add nodes (entities)\n",
    "for entity in entities:\n",
    "    G.add_node(entity, label=entity)\n",
    "\n",
    "# Add edges (relationships)\n",
    "for subj, pred, obj in relationships:\n",
    "    G.add_edge(subj, obj, label=pred, relationship=pred)\n",
    "\n",
    "print(f\"Graph created with {G.number_of_nodes()} nodes and {G.number_of_edges()} edges\")\n",
    "\n",
    "# Visualization settings\n",
    "plt.figure(figsize=(14, 10))\n",
    "pos = nx.spring_layout(G, k=3, iterations=50)  # Layout algorithm\n",
    "\n",
    "# Draw the graph\n",
    "nx.draw_networkx_nodes(G, pos, node_color='lightblue', \n",
    "                      node_size=2000, alpha=0.9)\n",
    "nx.draw_networkx_edges(G, pos, edge_color='gray', \n",
    "                      arrows=True, arrowsize=20, alpha=0.7)\n",
    "nx.draw_networkx_labels(G, pos, font_size=8, font_weight='bold')\n",
    "\n",
    "# Add edge labels\n",
    "edge_labels = nx.get_edge_attributes(G, 'label')\n",
    "nx.draw_networkx_edge_labels(G, pos, edge_labels=edge_labels, \n",
    "                           font_size=7, font_color='red')\n",
    "\n",
    "plt.title(\"UCU Research Knowledge Graph - Static Visualization (NetworkX)\", \n",
    "          fontsize=14, fontweight='bold')\n",
    "plt.axis('off')  # Turn off axis\n",
    "plt.tight_layout()\n",
    "plt.show()"
   ]
  },
  {
   "cell_type": "code",
   "execution_count": 49,
   "id": "4b972ad8",
   "metadata": {},
   "outputs": [
    {
     "name": "stdout",
     "output_type": "stream",
     "text": [
      "\n",
      "GRAPH ANALYSIS:\n",
      "- Nodes: ['degrees in Software Engineering and Information Systems', 'UCU', 'Mukono District', 'Uganda Christian University in Mukono', 'Sarah Kizito', 'The university']\n",
      "- Edges: [('UCU', 'degrees in Software Engineering and Information Systems', {'label': 'offers', 'relationship': 'offers'}), ('Sarah Kizito', 'Uganda Christian University in Mukono', {'label': 'teaches_at', 'relationship': 'teaches_at'}), ('The university', 'Mukono District', {'label': 'located_in', 'relationship': 'located_in'})]\n",
      "- Is connected: False\n",
      "- Number of connected components: 3\n"
     ]
    }
   ],
   "source": [
    "# Additional analysis\n",
    "print(\"\\nGRAPH ANALYSIS:\")\n",
    "print(f\"- Nodes: {list(G.nodes())}\")\n",
    "print(f\"- Edges: {list(G.edges(data=True))}\")\n",
    "print(f\"- Is connected: {nx.is_weakly_connected(G)}\")\n",
    "print(f\"- Number of connected components: {nx.number_weakly_connected_components(G)}\")"
   ]
  },
  {
   "cell_type": "markdown",
   "id": "de788faa",
   "metadata": {},
   "source": [
    "## Dynamic Visualization with PyVis"
   ]
  },
  {
   "cell_type": "markdown",
   "id": "743b87dd",
   "metadata": {},
   "source": [
    "PyVis creates interactive HTML visualizations perfect for exploration."
   ]
  },
  {
   "cell_type": "markdown",
   "id": "fd09522c",
   "metadata": {},
   "source": [
    "#### DYNAMIC VISUALIZATION - Comprehensive version"
   ]
  },
  {
   "cell_type": "code",
   "execution_count": 21,
   "id": "a0cc27b1",
   "metadata": {},
   "outputs": [],
   "source": [
    "# Create a PyVis network with proper configuration\n",
    "net = Network(height=\"750px\", width=\"100%\", bgcolor=\"#ffffff\", font_color=\"black\",\n",
    "              directed=True, notebook=True, cdn_resources='in_line')"
   ]
  },
  {
   "cell_type": "code",
   "execution_count": 22,
   "id": "b08246ed",
   "metadata": {},
   "outputs": [],
   "source": [
    "# Configure physics for better layout\n",
    "net.set_options(\"\"\"\n",
    "var options = {\n",
    "  \"physics\": {\n",
    "    \"enabled\": true,\n",
    "    \"stabilization\": {\"iterations\": 100},\n",
    "    \"forceAtlas2Based\": {\n",
    "      \"gravitationalConstant\": -50,\n",
    "      \"centralGravity\": 0.01,\n",
    "      \"springLength\": 100,\n",
    "      \"springConstant\": 0.08\n",
    "    }\n",
    "  },\n",
    "  \"interaction\": {\"multiselect\": true, \"navigationButtons\": true}\n",
    "}\n",
    "\"\"\")"
   ]
  },
  {
   "cell_type": "code",
   "execution_count": 23,
   "id": "4af8f5fa",
   "metadata": {},
   "outputs": [],
   "source": [
    "# Define node groups with EXACT names from our entities\n",
    "person_nodes = ['Dr. Sarah Kizito', 'Dr. John Mugisha']\n",
    "course_nodes = ['Computer Science', 'Data Science', 'Machine Learning', \n",
    "                'Software Engineering', 'Information Systems']\n",
    "location_nodes = ['Mukono', 'Mukono District']\n",
    "org_nodes = ['Uganda Christian University']\n",
    "topic_nodes = ['Artificial Intelligence', 'Educational Technology']\n",
    "\n",
    "colors = {\n",
    "    'Person': '#ff9999',\n",
    "    'Course': '#99ff99', \n",
    "    'Location': '#9999ff',\n",
    "    'Organization': '#ffff99',\n",
    "    'Research Topic': '#ff99ff'\n",
    "}"
   ]
  },
  {
   "cell_type": "code",
   "execution_count": 27,
   "id": "f05e2a7f",
   "metadata": {},
   "outputs": [
    {
     "name": "stdout",
     "output_type": "stream",
     "text": [
      "Added 6 nodes to the graph\n"
     ]
    }
   ],
   "source": [
    "# Add nodes with EXACT names from our entity list\n",
    "node_mapping = {}  # Track which nodes we're actually adding\n",
    "\n",
    "for entity in entities:\n",
    "    if entity in person_nodes:\n",
    "        net.add_node(entity, label=entity, color=colors['Person'], \n",
    "                    group='Person', title='Person', font={'size': 14})\n",
    "        node_mapping[entity] = 'Person'\n",
    "    elif entity in course_nodes:\n",
    "        net.add_node(entity, label=entity, color=colors['Course'], \n",
    "                    group='Course', title='Course', font={'size': 12})\n",
    "        node_mapping[entity] = 'Course'\n",
    "    elif entity in location_nodes:\n",
    "        net.add_node(entity, label=entity, color=colors['Location'], \n",
    "                    group='Location', title='Location', font={'size': 12})\n",
    "        node_mapping[entity] = 'Location'\n",
    "    elif entity in org_nodes:\n",
    "        net.add_node(entity, label=entity, color=colors['Organization'], \n",
    "                    group='Organization', title='Organization', font={'size': 14})\n",
    "        node_mapping[entity] = 'Organization'\n",
    "    elif entity in topic_nodes:\n",
    "        net.add_node(entity, label=entity, color=colors['Research Topic'], \n",
    "                    group='Research Topic', title='Research Topic', font={'size': 12})\n",
    "        node_mapping[entity] = 'Research Topic'\n",
    "    else:\n",
    "        # Default for any unexpected entities\n",
    "        net.add_node(entity, label=entity, color='#cccccc', \n",
    "                    group='Other', title='Other', font={'size': 10})\n",
    "        node_mapping[entity] = 'Other'\n",
    "\n",
    "print(f\"Added {len(net.nodes)} nodes to the graph\")\n"
   ]
  },
  {
   "cell_type": "code",
   "execution_count": 28,
   "id": "ef34e85f",
   "metadata": {},
   "outputs": [
    {
     "name": "stdout",
     "output_type": "stream",
     "text": [
      "Successfully added 3 edges\n",
      "Graph ready: 6 nodes, 6 edges\n"
     ]
    }
   ],
   "source": [
    "# Add edges with validation\n",
    "edges_added = 0\n",
    "for subj, pred, obj in relationships:\n",
    "    # Check if both nodes exist in our graph\n",
    "    if subj in node_mapping and obj in node_mapping:\n",
    "        # Customize edge appearance based on relationship type\n",
    "        edge_properties = {\n",
    "            'width': 2,\n",
    "            'arrowStrikethrough': False,\n",
    "            'smooth': {'type': 'continuous'}\n",
    "        }\n",
    "        \n",
    "        if 'teaches' in pred:\n",
    "            edge_properties['color'] = '#3366cc'\n",
    "            edge_properties['dashes'] = False\n",
    "        elif 'research' in pred or 'works_on' in pred:\n",
    "            edge_properties['color'] = '#dc3912' \n",
    "            edge_properties['dashes'] = [5, 5]\n",
    "        elif 'collaborates' in pred:\n",
    "            edge_properties['color'] = '#109618'\n",
    "            edge_properties['width'] = 3\n",
    "        elif 'offers' in pred:\n",
    "            edge_properties['color'] = '#ff9900'\n",
    "            edge_properties['width'] = 2\n",
    "        elif 'located' in pred:\n",
    "            edge_properties['color'] = '#990099'\n",
    "            edge_properties['width'] = 2\n",
    "        else:\n",
    "            edge_properties['color'] = '#666666'\n",
    "            \n",
    "        net.add_edge(subj, obj, label=pred, **edge_properties)\n",
    "        edges_added += 1\n",
    "    else:\n",
    "        print(f\"Skipping edge - Node not found: '{subj}' → '{obj}'\")\n",
    "\n",
    "print(f\"Successfully added {edges_added} edges\")\n",
    "print(f\"Graph ready: {len(net.nodes)} nodes, {len(net.edges)} edges\")"
   ]
  },
  {
   "cell_type": "code",
   "execution_count": 31,
   "id": "71067aac",
   "metadata": {},
   "outputs": [
    {
     "name": "stdout",
     "output_type": "stream",
     "text": [
      "Graph saved as 'knowledge_graph.html' with UTF-8 encoding\n",
      "Opened in your default browser!\n"
     ]
    }
   ],
   "source": [
    "# FIX FOR UNICODE ERROR: Manual save with UTF-8 encoding\n",
    "try:\n",
    "    filename = \"knowledge_graph.html\"\n",
    "    \n",
    "    # Generate HTML content\n",
    "    html_content = net.generate_html()\n",
    "    \n",
    "    # Save with explicit UTF-8 encoding\n",
    "    with open(filename, \"w\", encoding=\"utf-8\") as f:\n",
    "        f.write(html_content)\n",
    "    \n",
    "    print(f\"Graph saved as '{filename}' with UTF-8 encoding\")\n",
    "    \n",
    "    # Try to open in browser\n",
    "    import webbrowser\n",
    "    import os\n",
    "    \n",
    "    if os.path.exists(filename):\n",
    "        webbrowser.open('file://' + os.path.abspath(filename))\n",
    "        print(\"Opened in your default browser!\")\n",
    "    else:\n",
    "        print(\"File created but could not open automatically\")\n",
    "        print(\"Manually open 'knowledge_graph.html' in your browser\")\n",
    "        \n",
    "except Exception as e:\n",
    "    print(f\"Error: {e}\")\n",
    "    print(\"Trying alternative method...\")\n",
    "    \n",
    "    # Alternative: Use a different approach\n",
    "    try:\n",
    "        net.write_html(\"knowledge_graph_fallback.html\")\n",
    "        print(\"Fallback graph saved as 'knowledge_graph_fallback.html'\")\n",
    "    except:\n",
    "        print(\"All save methods failed\")\n",
    "        print(\"The graph is still created in memory, but couldn't save to file\")"
   ]
  },
  {
   "cell_type": "markdown",
   "id": "c4c23b27",
   "metadata": {},
   "source": [
    "### DYNAMIC VISUALIZATION - MINIMAL & SAFE"
   ]
  },
  {
   "cell_type": "code",
   "execution_count": 37,
   "id": "3118ee9c",
   "metadata": {},
   "outputs": [],
   "source": [
    "# Create network\n",
    "net = Network(height=\"750px\", width=\"100%\", directed=True)"
   ]
  },
  {
   "cell_type": "code",
   "execution_count": 38,
   "id": "ad0ce16b",
   "metadata": {},
   "outputs": [],
   "source": [
    "# Simple node addition\n",
    "for entity in entities:\n",
    "    net.add_node(entity, label=entity)"
   ]
  },
  {
   "cell_type": "code",
   "execution_count": 39,
   "id": "cf6ae8b7",
   "metadata": {},
   "outputs": [
    {
     "name": "stdout",
     "output_type": "stream",
     "text": [
      "Graph: 6 nodes, 3 edges\n"
     ]
    }
   ],
   "source": [
    "# Simple edge addition  \n",
    "for subj, pred, obj in relationships:\n",
    "    if subj in entities and obj in entities:\n",
    "        net.add_edge(subj, obj, label=pred)\n",
    "\n",
    "print(f\"Graph: {len(net.nodes)} nodes, {len(net.edges)} edges\")"
   ]
  },
  {
   "cell_type": "code",
   "execution_count": 40,
   "id": "0177d4fd",
   "metadata": {},
   "outputs": [
    {
     "name": "stdout",
     "output_type": "stream",
     "text": [
      "Graph saved as 'kg_simple.html'\n",
      "Opening in browser...\n"
     ]
    }
   ],
   "source": [
    "# GUARANTEED UNICODE-SAFE SAVE\n",
    "html_content = net.generate_html()\n",
    "with open(\"kg_simple.html\", \"w\", encoding=\"utf-8\") as f:\n",
    "    f.write(html_content)\n",
    "\n",
    "print(\"Graph saved as 'kg_simple.html'\")\n",
    "\n",
    "# Open in browser\n",
    "import webbrowser\n",
    "webbrowser.open('kg_simple.html')\n",
    "print(\"Opening in browser...\")"
   ]
  }
 ],
 "metadata": {
  "kernelspec": {
   "display_name": "Python 3",
   "language": "python",
   "name": "python3"
  },
  "language_info": {
   "codemirror_mode": {
    "name": "ipython",
    "version": 3
   },
   "file_extension": ".py",
   "mimetype": "text/x-python",
   "name": "python",
   "nbconvert_exporter": "python",
   "pygments_lexer": "ipython3",
   "version": "3.12.1"
  }
 },
 "nbformat": 4,
 "nbformat_minor": 5
}
