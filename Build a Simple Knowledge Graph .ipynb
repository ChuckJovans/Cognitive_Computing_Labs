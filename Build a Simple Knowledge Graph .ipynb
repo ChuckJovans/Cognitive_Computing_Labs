{
 "cells": [
  {
   "cell_type": "markdown",
   "id": "63d4df55",
   "metadata": {},
   "source": [
    "# Lab Manual: Build a Simple Knowledge Graph using Python"
   ]
  }
 ],
 "metadata": {
  "language_info": {
   "name": "python"
  }
 },
 "nbformat": 4,
 "nbformat_minor": 5
}
